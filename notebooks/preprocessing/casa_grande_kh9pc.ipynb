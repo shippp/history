{
 "cells": [
  {
   "cell_type": "markdown",
   "id": "9ffa0689",
   "metadata": {},
   "source": [
    "# Casa Grande KH-9 Panoramic Camera preprocessing"
   ]
  },
  {
   "cell_type": "code",
   "execution_count": 1,
   "id": "50136e98",
   "metadata": {},
   "outputs": [],
   "source": [
    "%load_ext autoreload\n",
    "%autoreload 2"
   ]
  },
  {
   "cell_type": "code",
   "execution_count": 2,
   "id": "431be80c",
   "metadata": {},
   "outputs": [],
   "source": [
    "import hipp\n",
    "import usgsxplore\n",
    "import os\n",
    "import rasterio\n",
    "from pathlib import Path"
   ]
  },
  {
   "cell_type": "markdown",
   "id": "aeead233",
   "metadata": {},
   "source": [
    "## Settings"
   ]
  },
  {
   "cell_type": "code",
   "execution_count": 3,
   "id": "e5671cdb",
   "metadata": {},
   "outputs": [],
   "source": [
    "# path settings\n",
    "paths: dict[str, Path] = {}\n",
    "dir = Path(\"/mnt/summer/USERS/DEHECQA/history/data_prep/casa_grande/kh9_pc_images/1978_03_25\")\n",
    "\n",
    "paths[\"dir\"] = dir\n",
    "paths[\"raw_images\"] = Path(\"/mnt/summer/USERS/DEHECQA/history/data_final/casa_grande/kh9_pc_images/1978_03_25/raw_images\")\n",
    "paths[\"preproc_images\"] = dir / \"preprocessed_images\"\n",
    "paths[\"joined_images\"] = dir / \"joined_images\"\n",
    "paths[\"qc\"] = dir / \"qc\"\n",
    "paths[\"intrinsics\"] = dir / \"camera_model_intrinsics.csv\"\n",
    "paths[\"extrinsics\"] = dir / \"camera_model_extrinsics.csv\"\n",
    "paths[\"footprint\"] = dir / \"images_footprint.geojson\"\n",
    "\n",
    "# others settings\n",
    "QUICKVIEWS_FACTOR = 0.05\n",
    "MAX_WORKERS = 8\n",
    "OVERWRITE = False\n",
    "\n",
    "os.environ[\"USGS_USERNAME\"] = \"godinlu\"\n",
    "os.environ[\"USGS_TOKEN\"] = \"5guA_wc6vdbB5aI8!5MrMBbyWX3iMH4xZ2e09czmQbbK0h9rBTQVkxPg1fswwTUW\""
   ]
  },
  {
   "cell_type": "markdown",
   "id": "fdfed723",
   "metadata": {},
   "source": [
    "## Downloading the dataset\n",
    "\n",
    "| Dataset Name | Date | Images Count | Preprocess Notebook | Raw images acces| Preprocessed images size | Raw images size|\n",
    "|--|--|--|--|--|--|--|\n",
    "| Casa Grande KH-9 PC | 1978/03/25 | 6 |here| USGS | 43 Go | 47 Go |\n"
   ]
  },
  {
   "cell_type": "code",
   "execution_count": null,
   "id": "90461aac",
   "metadata": {},
   "outputs": [],
   "source": [
    "dataset = \"declassiii\"\n",
    "entity_ids = [\"D3C1214-100097A013\", \"D3C1214-100097A014\", \"D3C1214-100097A015\", \"D3C1214-100097F012\", \"D3C1214-100097F013\", \"D3C1214-100097F014\"]\n",
    "\n",
    "\n",
    "if not paths[\"raw_images\"].exists() or not paths[\"footprint\"].exists() or not paths[\"extrinsics\"].exists() or OVERWRITE:\n",
    "    username = os.getenv(\"USGS_USERNAME\") or input(\"Enter your USGS username: \")\n",
    "    token = os.getenv(\"USGS_TOKEN\") or input(\"Enter your USGS token: \")\n",
    "\n",
    "    # connect to the API\n",
    "    api = usgsxplore.API(username, token)\n",
    "\n",
    "    # get metadata of scenes with their ids\n",
    "    scenes_metadata = api.get_scenes_metadata(dataset, entity_ids)\n",
    "\n",
    "    # save the footprint files\n",
    "    usgsxplore.utils.convert_response_to_gdf(scenes_metadata).to_file(paths[\"footprint\"], driver=\"GeoJSON\")\n",
    "\n",
    "    # Process metadata to save the extrinsics file\n",
    "    df = usgsxplore.utils.convert_response_to_df(scenes_metadata)\n",
    "    df[\"image_file_name\"] = df[\"Entity ID\"].apply(lambda txt: f\"{txt}.tif\")\n",
    "    df[\"lat\"] = df[\"Center Latitude dec\"]\n",
    "    df[\"lon\"] = df[\"Center Longitude dec\"]\n",
    "    df[\"alt\"] = 160000 \n",
    "    df[[\"image_file_name\", \"lon\", \"lat\", \"alt\"]].to_csv(paths[\"extrinsics\"], index=False)\n",
    "    \n",
    "    # download raw images\n",
    "    api.download(dataset, entity_ids, output_dir=paths[\"raw_images\"], overwrite=OVERWRITE)\n",
    "\n",
    "    api.logout()\n",
    "\n",
    "    hipp.tools.generate_quickviews(paths[\"raw_images\"], QUICKVIEWS_FACTOR, max_workers=MAX_WORKERS, overwrite=OVERWRITE)"
   ]
  },
  {
   "cell_type": "markdown",
   "id": "c61a464d",
   "metadata": {},
   "source": [
    "## Create the camera intrinsics file"
   ]
  },
  {
   "cell_type": "code",
   "execution_count": 6,
   "id": "5b985b26",
   "metadata": {},
   "outputs": [],
   "source": [
    "hipp.Intrinsics(focal_length=1524, pixel_pitch=0.007).to_csv(paths[\"intrinsics\"])"
   ]
  },
  {
   "cell_type": "markdown",
   "id": "8160ef7c",
   "metadata": {},
   "source": [
    "## Step 2 : Joining Images\n",
    "\n",
    "The first step of the preprocessing pipeline is to **join multiple image tiles** into a single, continuous image. This process is necessary because **KH9 PC images are typically split into 10-12 separate parts**, each approximately **1 GB in size**, due to their large original resolution.\n",
    "\n",
    "However, **joining these image parts is not straightforward**, primarily because there is a **slight overlap between adjacent tiles**. \n",
    "\n",
    "To accurately reconstruct the full image, we need to perform the following steps:\n",
    "\n",
    "1. **Detect keypoints (interest points)** along the **right border** of the first image part.\n",
    "2. Detect corresponding keypoints along the **left border** of the next image part.\n",
    "3. **Match these keypoints** using a feature-matching algorithm to find candidate correspondences.\n",
    "4. Use **RANSAC (Random Sample Consensus)** to filter out mismatched or erroneous correspondences (i.e., outliers).\n",
    "5. Estimate a **relative geometric transformation** (typically a translation or affine transform) to correctly align the second image with the first.\n",
    "6. Apply this transformation and **merge the two parts** into a larger composite image.\n",
    "\n",
    "This process is repeated sequentially for all image parts, progressively building up the full image mosaic.\n",
    "\n",
    "To perform that 2 functions exists:\n",
    "- `join_images_asp` (recommanded) : which will use [`image_mosaic`](https://stereopipeline.readthedocs.io/en/latest/tools/image_mosaic.html) program from Ames Stereo Pipeline. This function is much more safer but it requiered to install ASP and the command need to be visible in your path.\n",
    "- `join_images` (beta) : is a pure Python implementation that replicates the same processing steps, but currently lacks blending in overlapping regions.\n"
   ]
  },
  {
   "cell_type": "code",
   "execution_count": 17,
   "id": "c557ed69",
   "metadata": {},
   "outputs": [
    {
     "name": "stdout",
     "output_type": "stream",
     "text": [
      "Skipping /mnt/summer/USERS/DEHECQA/history/data_prep/casa_grande/kh9_pc_images/1978_03_25/joined_images/D3C1214-100097A013.tif: output already exists\n",
      "Skipping /mnt/summer/USERS/DEHECQA/history/data_prep/casa_grande/kh9_pc_images/1978_03_25/joined_images/D3C1214-100097A014.tif: output already exists\n",
      "Skipping /mnt/summer/USERS/DEHECQA/history/data_prep/casa_grande/kh9_pc_images/1978_03_25/joined_images/D3C1214-100097A015.tif: output already exists\n",
      "Skipping /mnt/summer/USERS/DEHECQA/history/data_prep/casa_grande/kh9_pc_images/1978_03_25/joined_images/D3C1214-100097F012.tif: output already exists\n",
      "Skipping /mnt/summer/USERS/DEHECQA/history/data_prep/casa_grande/kh9_pc_images/1978_03_25/joined_images/D3C1214-100097F013.tif: output already exists\n",
      "Skipping /mnt/summer/USERS/DEHECQA/history/data_prep/casa_grande/kh9_pc_images/1978_03_25/joined_images/D3C1214-100097F014.tif: output already exists\n"
     ]
    }
   ],
   "source": [
    "# this version use image_mosaic from asp, So you need to have asp in your path\n",
    "#hipp.kh9pc.join_images_asp(RAW_IMAGES_DIRECTORY, JOINED_IMAGES_DIRECTORY)\n",
    "hipp.kh9pc.join_images(paths[\"raw_images\"], paths[\"joined_images\"], OVERWRITE, max_workers=MAX_WORKERS)\n",
    "\n",
    "hipp.tools.generate_quickviews(paths[\"joined_images\"], QUICKVIEWS_FACTOR, max_workers=MAX_WORKERS, overwrite=OVERWRITE)"
   ]
  },
  {
   "cell_type": "code",
   "execution_count": 19,
   "id": "1632a212",
   "metadata": {},
   "outputs": [],
   "source": [
    "for raster_filepath in paths[\"joined_images\"].glob(\"*.tif\"):\n",
    "    output_raster_filepath = paths[\"preproc_images\"] / raster_filepath.name\n",
    "\n",
    "    # don't overwrite\n",
    "    if not output_raster_filepath.exists():\n",
    "        print(f\"Processing : {raster_filepath.name}...\")\n",
    "\n",
    "        \n",
    "        # Detect collimation lines\n",
    "        print(\"Estimation of collimation lines...\")\n",
    "        output_plot_path = paths[\"qc\"] / \"collimation_lines\" / f\"{raster_filepath.stem}.png\"\n",
    "        collimation_lines = hipp.kh9pc.lines_processing.detect_horizontal_collimation_lines(raster_filepath, plot=False, output_plot_path=output_plot_path)\n",
    "\n",
    "        # Detect vertical edges\n",
    "        print(\"Detection of vertical edges...\")\n",
    "        output_plot_path = paths[\"qc\"] / \"vertical_edges\" / f\"{raster_filepath.stem}.png\"\n",
    "        vertical_edges = hipp.kh9pc.lines_processing.detect_vertical_edges(raster_filepath, plot=False, output_plot_path=output_plot_path)\n",
    "        \n",
    "        # Plot the distance between collimation lines\n",
    "        output_plot_path = paths[\"qc\"] / \"distance_between_collimation_lines\" / f\"{raster_filepath.stem}.png\"\n",
    "        hipp.kh9pc.lines_processing.plot_distance_between_collimation_lines(vertical_edges, collimation_lines, plot=False, output_plot_path=output_plot_path)\n",
    "\n",
    "        # compute the transformation\n",
    "        output_plot_path = paths[\"qc\"] / \"transformations\" / f\"{raster_filepath.stem}.png\"\n",
    "        tf_matrix, output_img_size, dists = hipp.kh9pc.lines_processing.compute_transformation(vertical_edges, collimation_lines, plot=False, output_plot_path=output_plot_path)\n",
    "\n",
    "        # Warp the image\n",
    "        print(f\"Warping {raster_filepath} -> {output_raster_filepath}\")\n",
    "        hipp.image.warp_raster_pixels(raster_filepath, output_raster_filepath, tf_matrix, output_img_size)\n",
    "\n",
    "        # detect collimation lines after transform\n",
    "        print(\"Estimation of collimation lines after transformation...\")\n",
    "        output_plot_path = paths[\"qc\"] / \"collimation_lines_after_transform\" / f\"{output_raster_filepath.stem}.png\"\n",
    "        padding = (0,0) # set the padding to (0,0) because the output image is cropped\n",
    "        collimation_lines = hipp.kh9pc.lines_processing.detect_horizontal_collimation_lines(output_raster_filepath, padding, plot=False, output_plot_path=output_plot_path)\n",
    "\n",
    "        # Plot the distance between collimation lines after transformation\n",
    "        with rasterio.open(output_raster_filepath) as src:\n",
    "            vertical_edges = {\"left\":0, \"right\": src.width}\n",
    "        output_plot_path = paths[\"qc\"] / \"distance_between_collimation_lines_after_transform\" / f\"{output_raster_filepath.stem}.png\"\n",
    "        hipp.kh9pc.lines_processing.plot_distance_between_collimation_lines(vertical_edges, collimation_lines, plot=False, output_plot_path=output_plot_path)\n"
   ]
  }
 ],
 "metadata": {
  "kernelspec": {
   "display_name": "Python 3 (ipykernel)",
   "language": "python",
   "name": "python3"
  },
  "language_info": {
   "codemirror_mode": {
    "name": "ipython",
    "version": 3
   },
   "file_extension": ".py",
   "mimetype": "text/x-python",
   "name": "python",
   "nbconvert_exporter": "python",
   "pygments_lexer": "ipython3",
   "version": "3.11.13"
  }
 },
 "nbformat": 4,
 "nbformat_minor": 5
}
