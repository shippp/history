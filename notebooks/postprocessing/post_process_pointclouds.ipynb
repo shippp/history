{
 "cells": [
  {
   "cell_type": "markdown",
   "id": "35bc6413",
   "metadata": {},
   "source": [
    "# Post Processing\n",
    "\n",
    "This notebook is used to post process submissions. It's divided into 5 majors steps :\n",
    "1. Extract automatically all archives from the input directory.\n",
    "2. Convert all denses point cloud files (`.las` or `.laz`) into DEMs with `point2dem` command from ASP.\n",
    "3. Coregister DEMs with references DEMs. And compute difference between coregistered DEMs and references DEMs.\n",
    "4. Compute some global statistics on all the Post Processing.\n",
    "5. Generate some plots.\n"
   ]
  },
  {
   "cell_type": "code",
   "execution_count": null,
   "id": "69a34dc4",
   "metadata": {},
   "outputs": [],
   "source": [
    "%load_ext autoreload\n",
    "%autoreload 2"
   ]
  },
  {
   "cell_type": "code",
   "execution_count": null,
   "id": "4e9e9a32",
   "metadata": {},
   "outputs": [],
   "source": [
    "import history\n",
    "import history.postprocessing.visualization as viz\n",
    "from pathlib import Path\n",
    "import pandas as pd\n",
    "import numpy as np"
   ]
  },
  {
   "cell_type": "markdown",
   "id": "22df8f07",
   "metadata": {},
   "source": [
    "## Settings and Paths Managing\n",
    "\n",
    "For the post Preprocessing workflow their is a lot of directory and paths. To simplify it, let's used the class `history.postprocessing.PathsManager`. "
   ]
  },
  {
   "cell_type": "code",
   "execution_count": null,
   "id": "16210569",
   "metadata": {},
   "outputs": [],
   "source": [
    "BASE_DIR = Path(\"/mnt/summer/USERS/DEHECQA/history/output\") \n",
    "\n",
    "CUSTOM_PATHS = {\n",
    "    \"processing_dir\": BASE_DIR / \"test_data\",\n",
    "    \"raw_dems_dir\": BASE_DIR / \"test_data\" / \"dems\",\n",
    "    \"coreg_dems_dir\": BASE_DIR / \"test_data\" / \"coregistered_dems\",\n",
    "    \"casagrande_ref_dem_zoom\": BASE_DIR / \"test_data\" / \"ref_lowres_dems\" / \"casa_grande_reference_dem_zoom_30m.tif\",\n",
    "    \"casagrande_ref_dem_large\": Path(\"/mnt/summer/USERS/DEHECQA/history/data_final\") / \"casa_grande\" / \"aux_data\" / \"reference_dem_large.tif\",\n",
    "    \"iceland_ref_dem_zoom\": BASE_DIR / \"test_data\" / \"ref_lowres_dems\" / \"iceland_reference_dem_zoom_30m.tif\",\n",
    "    \"iceland_ref_dem_large\": Path(\"/mnt/summer/USERS/DEHECQA/history/data_final\") / \"iceland\" / \"aux_data\" / \"reference_dem_large.tif\",\n",
    "}\n",
    "paths_manager = history.postprocessing.PathsManager(BASE_DIR, CUSTOM_PATHS)\n",
    "\n",
    "# other settings\n",
    "OVERWRITE = False\n",
    "DRY_RUN = False # set this to True to avoid process\n",
    "MAX_WORKERS = 4\n",
    "VERBOSE = True\n",
    "\n",
    "postproc = history.postprocessing.PostProcessing(paths_manager)"
   ]
  },
  {
   "cell_type": "markdown",
   "id": "bd7a349a",
   "metadata": {},
   "source": [
    "## Step 1 : extract submissions"
   ]
  },
  {
   "cell_type": "code",
   "execution_count": null,
   "id": "534b1fd9",
   "metadata": {},
   "outputs": [],
   "source": [
    "postproc.uncompress_all_submissions(OVERWRITE, DRY_RUN, VERBOSE)"
   ]
  },
  {
   "cell_type": "markdown",
   "id": "95a4215c",
   "metadata": {},
   "source": [
    "## Visualize Post Processing files"
   ]
  },
  {
   "cell_type": "code",
   "execution_count": null,
   "id": "dc3fc53a",
   "metadata": {},
   "outputs": [],
   "source": [
    "postproc.plot_files_recap()"
   ]
  },
  {
   "cell_type": "markdown",
   "id": "01e15a67",
   "metadata": {},
   "source": [
    "## Step 2: Convert Dense Point Cloud Files into DEMs\n",
    "\n",
    "This step processes **dense point cloud files** to generate DEMs that are spatially aligned with their corresponding reference DEMs.\n",
    "\n",
    "- **Input search**: Point cloud files are searched **recursively** in the directory `extracted_submissions_dir` using the pattern `*_dense_pointcloud.{las,laz}`.  \n",
    "- **Output location**: The resulting DEMs are saved in the directory `raw_dems_dir`.  \n",
    "- **Reference selection**: For each point cloud file, the appropriate reference DEM is selected based on its `site` and `dataset` metadata.  \n",
    "\n",
    "**Note:**  \n",
    "The method `iter_point2dem` launches the ASP `point2dem` command with the parameters:  \n",
    "- `max_concurrent_commands`: Maximum number of parallel `point2dem` processes.  \n",
    "- `max_threads_per_command`: Maximum number of threads allocated to each individual process.  \n"
   ]
  },
  {
   "cell_type": "code",
   "execution_count": null,
   "id": "01d317ea",
   "metadata": {},
   "outputs": [],
   "source": [
    "asp_path = None\n",
    "max_concurrent_commands = 1\n",
    "\n",
    "postproc.iter_point2dem(OVERWRITE, DRY_RUN, asp_path, max_concurrent_commands, max_threads_per_command=MAX_WORKERS)"
   ]
  },
  {
   "cell_type": "markdown",
   "id": "84512c47",
   "metadata": {},
   "source": [
    "### Clean up the RAW_DEM_DIRECTORY\n",
    "Simply move log files into a folder and eventually remove temporary files"
   ]
  },
  {
   "cell_type": "code",
   "execution_count": null,
   "id": "5f39d766",
   "metadata": {},
   "outputs": [],
   "source": [
    "!mkdir -p {RAW_DEM_DIRECTORY}/log\n",
    "!mv {RAW_DEM_DIRECTORY}/*-log-point2dem-*.txt {RAW_DEM_DIRECTORY}/log 2>/dev/null || true\n",
    "!rm -f {RAW_DEM_DIRECTORY}/*-tmp-*.tif"
   ]
  },
  {
   "cell_type": "markdown",
   "id": "dfa653c3",
   "metadata": {},
   "source": [
    "## Step 3: Coregister DEMs\n",
    "\n",
    "Coregister multiple DEMs in a directory to appropriate reference DEMs and return summary statistics.\n",
    "\n",
    "This function iterates over all DEM files in `input_directory` ending with '-DEM.tif', \n",
    "selects the appropriate reference DEM and mask based on the site and dataset information,\n",
    "and applies coregistration using the `coregister_dem` function. \n",
    "\n",
    "Coregistered DEMs are saved to `output_directory`. If `overwrite` is False, existing output files are skipped.\n",
    "If `dry_run` is True, no coregistration is performed, only file names and planned operations are printed."
   ]
  },
  {
   "cell_type": "code",
   "execution_count": null,
   "id": "5fea58ff",
   "metadata": {},
   "outputs": [],
   "source": [
    "postproc.iter_coregister_dems(OVERWRITE, DRY_RUN, VERBOSE)"
   ]
  },
  {
   "cell_type": "markdown",
   "id": "87bfad55",
   "metadata": {},
   "source": [
    "## Step 4: Compute statistics"
   ]
  },
  {
   "cell_type": "code",
   "execution_count": null,
   "id": "b1c67a22",
   "metadata": {},
   "outputs": [],
   "source": [
    "postproc.compute_global_df()"
   ]
  },
  {
   "cell_type": "code",
   "execution_count": null,
   "id": "a388f1da",
   "metadata": {},
   "outputs": [],
   "source": [
    "postproc.compute_landcover_stats()"
   ]
  },
  {
   "cell_type": "markdown",
   "id": "46dcc5f6",
   "metadata": {},
   "source": [
    "## Step 5 : Generate some plots\n",
    "\n"
   ]
  },
  {
   "cell_type": "code",
   "execution_count": null,
   "id": "1380d60c",
   "metadata": {},
   "outputs": [],
   "source": [
    "df = postproc.get_global_df()\n",
    "landcover_df = postproc.get_landcover_stats()\n",
    "\n",
    "plot_dir = BASE_DIR / \"test_data\" / \"plots\"\n",
    "\n",
    "# print some informations about the global df\n",
    "participant_number = len(df[\"author\"].unique())\n",
    "submission_number = len(df)\n",
    "\n",
    "print(f\"Number of participants : {participant_number}\")\n",
    "print(f\"Number of submissions : {submission_number}\")\n",
    "\n",
    "print(\"submission by site/dataset :\\n\")\n",
    "print(pd.crosstab(df[\"dataset\"], df[\"site\"]))"
   ]
  },
  {
   "cell_type": "markdown",
   "id": "319affc8",
   "metadata": {},
   "source": [
    "generate all statistics plots"
   ]
  },
  {
   "cell_type": "code",
   "execution_count": null,
   "id": "afa93ae4",
   "metadata": {},
   "outputs": [],
   "source": [
    "stat_dir = plot_dir / \"statistics\"\n",
    "viz.generate_nmad_groupby(df, stat_dir / \"nmad\")\n",
    "viz.barplot_var(df, stat_dir, \"dense_point_count\", \"Point count\")\n",
    "viz.barplot_var(df, stat_dir, \"nmad_before_coreg\", \"NMAD before coregistration\")\n",
    "viz.plot_coregistration_shifts(df, stat_dir / \"coreg_shifts\")\n",
    "viz.generate_landcover_boxplot_by_dataset_site(landcover_df, stat_dir / \"landcover_stats\")\n",
    "viz.generate_landcover_nmad_by_dataset_site(landcover_df, stat_dir / \"landcover_stats\")\n",
    "viz.generate_landcover_grouped_boxplot_by_dataset_site(landcover_df, stat_dir / \"landcover_stats\")"
   ]
  },
  {
   "cell_type": "markdown",
   "id": "4eb3c876",
   "metadata": {},
   "source": [
    "generate individual coregistration plots"
   ]
  },
  {
   "cell_type": "code",
   "execution_count": null,
   "id": "73112c44",
   "metadata": {},
   "outputs": [],
   "source": [
    "viz.generate_coregistration_individual_plots(df, plot_dir / \"coregistration_individual_plots\")"
   ]
  },
  {
   "cell_type": "markdown",
   "id": "061677c5",
   "metadata": {},
   "source": [
    "generate std dems "
   ]
  },
  {
   "cell_type": "code",
   "execution_count": null,
   "id": "25ef348b",
   "metadata": {},
   "outputs": [],
   "source": [
    "viz.generate_mosaic_std_dems(df, plot_dir / \"mosaic-std-DEMs\")"
   ]
  },
  {
   "cell_type": "markdown",
   "id": "39e7e06b",
   "metadata": {},
   "source": [
    "generate all mosaic plots (can take a while)"
   ]
  },
  {
   "cell_type": "code",
   "execution_count": null,
   "id": "0377d3f7",
   "metadata": {},
   "outputs": [],
   "source": [
    "max_cols = {\n",
    "    (\"aerial\", \"casa_grande\"): 5,\n",
    "    (\"aerial\", \"iceland\"): 4,\n",
    "    (\"kh9mc\", \"casa_gande\"): 4,\n",
    "    (\"kh9mc\", \"iceland\"): 4,\n",
    "    (\"kh9pc\", \"casa_grande\"): 4,\n",
    "    (\"kh9pc\", \"iceland\"): 4,\n",
    "}\n",
    "\n",
    "viz.generate_dems_mosaic(df, plot_dir / \"mosaic-DEMs\", max_cols)\n",
    "viz.generate_ddems_mosaic(df, plot_dir / \"mosaic-DDEMs\", max_cols)\n",
    "viz.generate_hillshades_mosaic(df, plot_dir / \"mosaic-hillshades\", max_cols)\n",
    "viz.generate_slopes_mosaic(df, plot_dir / \"mosaic-slopes\", max_cols)"
   ]
  },
  {
   "cell_type": "markdown",
   "id": "4338f576",
   "metadata": {},
   "source": [
    "## Plotting some general statistics without outliers\n",
    "\n",
    "To remove outliers we will look at the nmad_after_coreg and remove all lines which are to high."
   ]
  },
  {
   "cell_type": "code",
   "execution_count": null,
   "id": "2ba6e76d",
   "metadata": {},
   "outputs": [],
   "source": [
    "k = 4\n",
    "\n",
    "df = postproc.get_global_df().dropna(subset=\"nmad_before_coreg\").copy()\n",
    "landcover_df = postproc.get_landcover_stats()\n",
    "\n",
    "# --- compute median and MAD per group (aligned to original index) ---\n",
    "median = df.groupby([\"dataset\", \"site\"])[\"nmad_after_coreg\"].transform(\"median\")\n",
    "mad = df.groupby([\"dataset\", \"site\"])[\"nmad_after_coreg\"].transform(lambda x: np.median(np.abs(x - np.median(x))))\n",
    "\n",
    "# normalize MAD to be comparable to std (for normal dist: sigma ≈ MAD * 1.4826)\n",
    "normalized_mad = mad * 1.4826\n",
    "\n",
    "# filter outliers above the threshold\n",
    "mask =  df[\"nmad_after_coreg\"] <= median + k * normalized_mad\n",
    "\n",
    "outlier_codes = df.index[~mask].to_list()\n",
    "print(\"outliers : \", outlier_codes)\n",
    "\n",
    "df_inliers = df.loc[mask]\n",
    "landcover_df_inliers = landcover_df.loc[~landcover_df[\"code\"].isin(outlier_codes)]\n",
    "\n",
    "plot_dir_inliers = BASE_DIR / \"test_data\" / \"plots_inliers\"\n",
    "\n",
    "# print some informations about the global df\n",
    "participant_number = len(df_inliers[\"author\"].unique())\n",
    "submission_number = len(df_inliers)\n",
    "\n",
    "print(f\"Number of participants : {participant_number}\")\n",
    "print(f\"Number of submissions : {submission_number}\")\n",
    "\n",
    "print(\"submission by site/dataset :\\n\")\n",
    "print(pd.crosstab(df_inliers[\"dataset\"], df_inliers[\"site\"]))"
   ]
  },
  {
   "cell_type": "markdown",
   "id": "8d35776d",
   "metadata": {},
   "source": [
    "generate all statistics plots"
   ]
  },
  {
   "cell_type": "code",
   "execution_count": null,
   "id": "a9fb8fab",
   "metadata": {},
   "outputs": [],
   "source": [
    "stat_dir_inliers = plot_dir_inliers / \"statistics\"\n",
    "viz.generate_nmad_groupby(df_inliers, stat_dir_inliers / \"nmad\")\n",
    "viz.barplot_var(df_inliers, stat_dir_inliers, \"dense_point_count\", \"Point count\")\n",
    "viz.barplot_var(df_inliers, stat_dir_inliers, \"nmad_before_coreg\", \"NMAD before coregistration\")\n",
    "viz.plot_coregistration_shifts(df_inliers, stat_dir_inliers / \"coreg_shifts\")\n",
    "viz.generate_landcover_boxplot_by_dataset_site(landcover_df_inliers, stat_dir_inliers / \"landcover_stats\")\n",
    "viz.generate_landcover_nmad_by_dataset_site(landcover_df_inliers, stat_dir_inliers / \"landcover_stats\")\n",
    "viz.generate_landcover_grouped_boxplot_by_dataset_site(landcover_df_inliers, stat_dir_inliers / \"landcover_stats\")"
   ]
  },
  {
   "cell_type": "markdown",
   "id": "35c8a0ff",
   "metadata": {},
   "source": [
    "generate individual coregistration plots"
   ]
  },
  {
   "cell_type": "code",
   "execution_count": null,
   "id": "7a83ffc2",
   "metadata": {},
   "outputs": [],
   "source": [
    "viz.generate_coregistration_individual_plots(df_inliers, plot_dir_inliers / \"coregistration_individual_plots\")"
   ]
  },
  {
   "cell_type": "markdown",
   "id": "5c7d4e0f",
   "metadata": {},
   "source": [
    "generate std dems "
   ]
  },
  {
   "cell_type": "code",
   "execution_count": null,
   "id": "e5e21d6a",
   "metadata": {},
   "outputs": [],
   "source": [
    "viz.generate_mosaic_std_dems(df_inliers, plot_dir_inliers / \"mosaic-std-DEMs\")"
   ]
  },
  {
   "cell_type": "code",
   "execution_count": null,
   "id": "d68c9df0",
   "metadata": {},
   "outputs": [],
   "source": [
    "max_cols = {\n",
    "    (\"aerial\", \"casa_grande\"): 5,\n",
    "    (\"aerial\", \"iceland\"): 4,\n",
    "    (\"kh9mc\", \"casa_gande\"): 4,\n",
    "    (\"kh9mc\", \"iceland\"): 4,\n",
    "    (\"kh9pc\", \"casa_grande\"): 4,\n",
    "    (\"kh9pc\", \"iceland\"): 4,\n",
    "}\n",
    "\n",
    "viz.generate_dems_mosaic(df_inliers, plot_dir_inliers / \"mosaic-DEMs\", max_cols)\n",
    "viz.generate_ddems_mosaic(df_inliers, plot_dir_inliers / \"mosaic-DDEMs\", max_cols)\n",
    "viz.generate_hillshades_mosaic(df_inliers, plot_dir_inliers / \"mosaic-hillshades\", max_cols)\n",
    "viz.generate_slopes_mosaic(df_inliers, plot_dir_inliers / \"mosaic-slopes\", max_cols)"
   ]
  }
 ],
 "metadata": {
  "kernelspec": {
   "display_name": "Python 3 (ipykernel)",
   "language": "python",
   "name": "python3"
  },
  "language_info": {
   "codemirror_mode": {
    "name": "ipython",
    "version": 3
   },
   "file_extension": ".py",
   "mimetype": "text/x-python",
   "name": "python",
   "nbconvert_exporter": "python",
   "pygments_lexer": "ipython3",
   "version": "3.11.13"
  }
 },
 "nbformat": 4,
 "nbformat_minor": 5
}
