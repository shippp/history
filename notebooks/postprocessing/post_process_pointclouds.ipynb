{
 "cells": [
  {
   "cell_type": "markdown",
   "id": "35bc6413",
   "metadata": {},
   "source": [
    "# Post Processing\n",
    "\n",
    "This notebook is used to post process submissions. It's divided into 5 majors steps :\n",
    "1. Extract automatically all archives from the input directory.\n",
    "2. Convert all denses point cloud files (`.las` or `.laz`) into DEMs with `point2dem` command from ASP.\n",
    "3. Coregister DEMs with references DEMs. And compute difference between coregistered DEMs and references DEMs.\n",
    "4. Compute some global statistics on all the Post Processing.\n",
    "5. Generate some plots.\n"
   ]
  },
  {
   "cell_type": "code",
   "execution_count": 1,
   "id": "69a34dc4",
   "metadata": {},
   "outputs": [],
   "source": [
    "%load_ext autoreload\n",
    "%autoreload 2"
   ]
  },
  {
   "cell_type": "code",
   "execution_count": 2,
   "id": "4e9e9a32",
   "metadata": {},
   "outputs": [],
   "source": [
    "import history\n",
    "import history.postprocessing.visualization as viz\n",
    "from pathlib import Path\n",
    "import pandas as pd\n",
    "import numpy as np"
   ]
  },
  {
   "cell_type": "markdown",
   "id": "22df8f07",
   "metadata": {},
   "source": [
    "## Settings and Paths Managing\n",
    "\n",
    "For the post Preprocessing workflow their is a lot of directory and paths. To simplify it, let's used the class `history.postprocessing.PathsManager`. "
   ]
  },
  {
   "cell_type": "code",
   "execution_count": 3,
   "id": "16210569",
   "metadata": {},
   "outputs": [],
   "source": [
    "BASE_DIR = Path(\"/mnt/summer/USERS/DEHECQA/history/output\") \n",
    "\n",
    "CUSTOM_PATHS = {\n",
    "    \"processing_dir\": BASE_DIR / \"test_data\",\n",
    "    \"raw_dems_dir\": BASE_DIR / \"test_data\" / \"dems\",\n",
    "    \"coreg_dems_dir\": BASE_DIR / \"test_data\" / \"coregistered_dems\",\n",
    "    \"casagrande_ref_dem_zoom\": BASE_DIR / \"test_data\" / \"ref_lowres_dems\" / \"casa_grande_reference_dem_zoom_30m.tif\",\n",
    "    \"casagrande_ref_dem_large\": Path(\"/mnt/summer/USERS/DEHECQA/history/data_final\") / \"casa_grande\" / \"aux_data\" / \"reference_dem_large.tif\",\n",
    "    \"iceland_ref_dem_zoom\": BASE_DIR / \"test_data\" / \"ref_lowres_dems\" / \"iceland_reference_dem_zoom_30m.tif\",\n",
    "    \"iceland_ref_dem_large\": Path(\"/mnt/summer/USERS/DEHECQA/history/data_final\") / \"iceland\" / \"aux_data\" / \"reference_dem_large.tif\",\n",
    "}\n",
    "paths_manager = history.postprocessing.PathsManager(BASE_DIR, CUSTOM_PATHS)\n",
    "\n",
    "# other settings\n",
    "OVERWRITE = False\n",
    "DRY_RUN = False # set this to True to avoid process\n",
    "MAX_WORKERS = 4\n",
    "VERBOSE = True\n",
    "\n",
    "postproc = history.postprocessing.PostProcessing(paths_manager)"
   ]
  },
  {
   "cell_type": "markdown",
   "id": "bd7a349a",
   "metadata": {},
   "source": [
    "## Step 1 : extract submissions"
   ]
  },
  {
   "cell_type": "code",
   "execution_count": 4,
   "id": "534b1fd9",
   "metadata": {},
   "outputs": [],
   "source": [
    "postproc.uncompress_all_submissions(OVERWRITE, DRY_RUN, VERBOSE)"
   ]
  },
  {
   "cell_type": "markdown",
   "id": "95a4215c",
   "metadata": {},
   "source": [
    "## Visualize Post Processing files"
   ]
  },
  {
   "cell_type": "code",
   "execution_count": 5,
   "id": "dc3fc53a",
   "metadata": {},
   "outputs": [],
   "source": [
    "postproc.plot_files_recap()"
   ]
  },
  {
   "cell_type": "markdown",
   "id": "01e15a67",
   "metadata": {},
   "source": [
    "## Step 2: Convert Dense Point Cloud Files into DEMs\n",
    "\n",
    "This step processes **dense point cloud files** to generate DEMs that are spatially aligned with their corresponding reference DEMs.\n",
    "\n",
    "- **Input search**: Point cloud files are searched **recursively** in the directory `extracted_submissions_dir` using the pattern `*_dense_pointcloud.{las,laz}`.  \n",
    "- **Output location**: The resulting DEMs are saved in the directory `raw_dems_dir`.  \n",
    "- **Reference selection**: For each point cloud file, the appropriate reference DEM is selected based on its `site` and `dataset` metadata.  \n",
    "\n",
    "**Note:**  \n",
    "The method `iter_point2dem` launches the ASP `point2dem` command with the parameters:  \n",
    "- `max_concurrent_commands`: Maximum number of parallel `point2dem` processes.  \n",
    "- `max_threads_per_command`: Maximum number of threads allocated to each individual process.  \n"
   ]
  },
  {
   "cell_type": "code",
   "execution_count": 6,
   "id": "01d317ea",
   "metadata": {},
   "outputs": [],
   "source": [
    "asp_path = None\n",
    "max_concurrent_commands = 1\n",
    "\n",
    "postproc.iter_point2dem(OVERWRITE, DRY_RUN, asp_path, max_concurrent_commands, max_threads_per_command=MAX_WORKERS)"
   ]
  },
  {
   "cell_type": "markdown",
   "id": "84512c47",
   "metadata": {},
   "source": [
    "### Clean up the RAW_DEM_DIRECTORY\n",
    "Simply move log files into a folder and eventually remove temporary files"
   ]
  },
  {
   "cell_type": "code",
   "execution_count": 7,
   "id": "5f39d766",
   "metadata": {},
   "outputs": [],
   "source": [
    "!mkdir -p {RAW_DEM_DIRECTORY}/log\n",
    "!mv {RAW_DEM_DIRECTORY}/*-log-point2dem-*.txt {RAW_DEM_DIRECTORY}/log 2>/dev/null || true\n",
    "!rm -f {RAW_DEM_DIRECTORY}/*-tmp-*.tif"
   ]
  },
  {
   "cell_type": "markdown",
   "id": "dfa653c3",
   "metadata": {},
   "source": [
    "## Step 3: Coregister DEMs\n",
    "\n",
    "Coregister multiple DEMs in a directory to appropriate reference DEMs and return summary statistics.\n",
    "\n",
    "This function iterates over all DEM files in `input_directory` ending with '-DEM.tif', \n",
    "selects the appropriate reference DEM and mask based on the site and dataset information,\n",
    "and applies coregistration using the `coregister_dem` function. \n",
    "\n",
    "Coregistered DEMs are saved to `output_directory`. If `overwrite` is False, existing output files are skipped.\n",
    "If `dry_run` is True, no coregistration is performed, only file names and planned operations are printed."
   ]
  },
  {
   "cell_type": "code",
   "execution_count": 8,
   "id": "5fea58ff",
   "metadata": {},
   "outputs": [],
   "source": [
    "postproc.iter_coregister_dems(OVERWRITE, DRY_RUN, VERBOSE)"
   ]
  },
  {
   "cell_type": "markdown",
   "id": "87bfad55",
   "metadata": {},
   "source": [
    "## Step 4: Compute statistics"
   ]
  },
  {
   "cell_type": "code",
   "execution_count": 24,
   "id": "b1c67a22",
   "metadata": {},
   "outputs": [],
   "source": [
    "# compute all statistics\n",
    "global_statistics = history.postprocessing.statistics.compute_global_statistics(paths_manager)\n",
    "\n",
    "# save statistics in a csv file\n",
    "global_statistics.to_csv(paths_manager.get_path(\"processing_dir\") / \"postprocessing_statistics.csv\")"
   ]
  },
  {
   "cell_type": "code",
   "execution_count": 95,
   "id": "3f0adf13",
   "metadata": {},
   "outputs": [],
   "source": [
    "landcover_statistics = history.postprocessing.statistics.compute_landcover_statistics(paths_manager)\n",
    "\n",
    "\n",
    "landcover_statistics.to_csv(paths_manager.get_path(\"processing_dir\") / \"landcover_statistics.csv\")"
   ]
  },
  {
   "cell_type": "markdown",
   "id": "46dcc5f6",
   "metadata": {},
   "source": [
    "## Step 5 : Generate plots\n",
    "\n"
   ]
  },
  {
   "cell_type": "code",
   "execution_count": 26,
   "id": "1380d60c",
   "metadata": {},
   "outputs": [],
   "source": [
    "global_statistics_path = paths_manager.get_path(\"processing_dir\") / \"postprocessing_statistics.csv\"\n",
    "landcover_statistics_path = paths_manager.get_path(\"processing_dir\") / \"landcover_statistics.csv\"\n",
    "\n",
    "plot_dirs = {\"all\": paths_manager.get_path(\"processing_dir\") / \"plots\", \"inliers\": paths_manager.get_path(\"processing_dir\") / \"plots_inliers\"}\n",
    "\n",
    "stat = pd.read_csv(global_statistics_path, index_col=\"code\")\n",
    "stat_inliers = stat.loc[stat[\"inliers\"]]\n",
    "\n",
    "lc_stat = pd.read_csv(landcover_statistics_path)\n",
    "lc_stat_inliers = lc_stat.loc[lc_stat[\"code\"].isin(stat_inliers.index)]\n",
    "\n",
    "stat_dict = {\"all\": stat, \"inliers\": stat_inliers}\n",
    "lc_stat_dict = {\"all\": lc_stat, \"inliers\": lc_stat_inliers}\n",
    "\n",
    "\n",
    "# print some informations about the global df\n",
    "for key, df in stat_dict.items():\n",
    "    print(f\"\\nSummary with {key} submissions : \\n\")\n",
    "    participant_number = len(df[\"author\"].unique())\n",
    "    submission_number = len(df)\n",
    "\n",
    "    print(f\"Number of participants : {participant_number}\")\n",
    "    print(f\"Number of submissions : {submission_number}\")\n",
    "\n",
    "    print(\"submission by site/dataset :\\n\")\n",
    "    print(pd.crosstab(df[\"dataset\"], df[\"site\"]))"
   ]
  },
  {
   "cell_type": "markdown",
   "id": "319affc8",
   "metadata": {},
   "source": [
    "generate all statistics plots"
   ]
  },
  {
   "cell_type": "code",
   "execution_count": 42,
   "id": "afa93ae4",
   "metadata": {},
   "outputs": [],
   "source": [
    "for key, df in stat_dict.items():\n",
    "\n",
    "    stat_dir = plot_dirs[key] / \"statistics\"\n",
    "    viz.generate_nmad_groupby(df, stat_dir / \"nmad\")\n",
    "    viz.barplot_var(df, stat_dir, \"dense_pointcloud_point_count\", \"Point count\")\n",
    "    viz.barplot_var(df, stat_dir, \"ddem_before_nmad\", \"NMAD before coregistration\")\n",
    "    viz.plot_coregistration_shifts(df, stat_dir / \"coreg_shifts\")\n",
    "\n",
    "    # landcover plots\n",
    "    viz.generate_landcover_boxplot_by_dataset_site(lc_stat_dict[key], stat_dir / \"landcover_stats\")\n",
    "    viz.generate_landcover_nmad_by_dataset_site(lc_stat_dict[key], stat_dir / \"landcover_stats\")\n",
    "    viz.generate_landcover_grouped_boxplot_by_dataset_site(lc_stat_dict[key], stat_dir / \"landcover_stats\")"
   ]
  },
  {
   "cell_type": "markdown",
   "id": "4eb3c876",
   "metadata": {},
   "source": [
    "generate individual coregistration plots"
   ]
  },
  {
   "cell_type": "code",
   "execution_count": null,
   "id": "73112c44",
   "metadata": {},
   "outputs": [],
   "source": [
    "for key, df in stat_dict.items():\n",
    "    viz.generate_coregistration_individual_plots(df, plot_dirs[key] / \"coregistration_individual_plots\")"
   ]
  },
  {
   "cell_type": "markdown",
   "id": "d254fb8a",
   "metadata": {},
   "source": [
    "generate std dems"
   ]
  },
  {
   "cell_type": "code",
   "execution_count": 41,
   "id": "539efddc",
   "metadata": {},
   "outputs": [],
   "source": [
    "for key, df in stat_dict.items():\n",
    "    std_dems_dir = plot_dirs[key] / \"std-DEMs\"\n",
    "\n",
    "    # computing std mnt and landcover stats on thoses \n",
    "    history.postprocessing.statistics.generate_std_dems_by_site_dataset(df, std_dems_dir)\n",
    "    lc_df = history.postprocessing.statistics.compute_landcover_statistics_from_std_dems(paths_manager, std_dems_dir)\n",
    "    lc_df.to_csv(std_dems_dir / \"landcover_statistics.csv\", index=False)\n",
    "\n",
    "    # generate plots\n",
    "    viz.generate_std_dem_plots(std_dems_dir)\n",
    "    viz.generate_landcover_grouped_boxplot_from_std_dems(lc_df, std_dems_dir / \"grouped-boxplot-landcover-std.png\")"
   ]
  },
  {
   "cell_type": "markdown",
   "id": "39e7e06b",
   "metadata": {},
   "source": [
    "generate all mosaic plots (can take a while)"
   ]
  },
  {
   "cell_type": "code",
   "execution_count": null,
   "id": "0377d3f7",
   "metadata": {},
   "outputs": [],
   "source": [
    "max_cols = {\n",
    "        \"all\":{\n",
    "        (\"aerial\", \"casa_grande\"): 5,\n",
    "        (\"aerial\", \"iceland\"): 4,\n",
    "        (\"kh9mc\", \"casa_gande\"): 4,\n",
    "        (\"kh9mc\", \"iceland\"): 4,\n",
    "        (\"kh9pc\", \"casa_grande\"): 4,\n",
    "        (\"kh9pc\", \"iceland\"): 4,\n",
    "    },\n",
    "    \"inliers\":{\n",
    "        (\"aerial\", \"casa_grande\"): 5,\n",
    "        (\"aerial\", \"iceland\"): 4,\n",
    "        (\"kh9mc\", \"casa_gande\"): 4,\n",
    "        (\"kh9mc\", \"iceland\"): 4,\n",
    "        (\"kh9pc\", \"casa_grande\"): 4,\n",
    "        (\"kh9pc\", \"iceland\"): 4,\n",
    "    }\n",
    "\n",
    "}\n",
    "for key, df in stat_dict.items():\n",
    "    viz.generate_dems_mosaic(df, plot_dirs[key] / \"mosaic-DEMs\", max_cols[key])\n",
    "    viz.generate_ddems_mosaic(df, plot_dirs[key] / \"mosaic-DDEMs\", max_cols[key])\n",
    "    viz.generate_hillshades_mosaic(df, plot_dirs[key] / \"mosaic-hillshades\", max_cols[key])\n",
    "    viz.generate_slopes_mosaic(df, plot_dirs[key] / \"mosaic-slopes\", max_cols[key])"
   ]
  }
 ],
 "metadata": {
  "kernelspec": {
   "display_name": "Python 3 (ipykernel)",
   "language": "python",
   "name": "python3"
  }
 },
 "nbformat": 4,
 "nbformat_minor": 5
}
